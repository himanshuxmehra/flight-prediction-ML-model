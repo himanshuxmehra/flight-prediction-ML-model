{
  "cells": [
    {
      "metadata": {
        "trusted": true
      },
      "cell_type": "code",
      "source": "import pandas as pd\n\ndf = pd.read_csv(\"FlightData.csv\")\ndf.head()",
      "execution_count": 1,
      "outputs": [
        {
          "output_type": "execute_result",
          "execution_count": 1,
          "data": {
            "text/html": "<div>\n<style scoped>\n    .dataframe tbody tr th:only-of-type {\n        vertical-align: middle;\n    }\n\n    .dataframe tbody tr th {\n        vertical-align: top;\n    }\n\n    .dataframe thead th {\n        text-align: right;\n    }\n</style>\n<table border=\"1\" class=\"dataframe\">\n  <thead>\n    <tr style=\"text-align: right;\">\n      <th></th>\n      <th>YEAR</th>\n      <th>QUARTER</th>\n      <th>MONTH</th>\n      <th>DAY_OF_MONTH</th>\n      <th>DAY_OF_WEEK</th>\n      <th>UNIQUE_CARRIER</th>\n      <th>TAIL_NUM</th>\n      <th>FL_NUM</th>\n      <th>ORIGIN_AIRPORT_ID</th>\n      <th>ORIGIN</th>\n      <th>...</th>\n      <th>CRS_ARR_TIME</th>\n      <th>ARR_TIME</th>\n      <th>ARR_DELAY</th>\n      <th>ARR_DEL15</th>\n      <th>CANCELLED</th>\n      <th>DIVERTED</th>\n      <th>CRS_ELAPSED_TIME</th>\n      <th>ACTUAL_ELAPSED_TIME</th>\n      <th>DISTANCE</th>\n      <th>Unnamed: 25</th>\n    </tr>\n  </thead>\n  <tbody>\n    <tr>\n      <th>0</th>\n      <td>2016</td>\n      <td>1</td>\n      <td>1</td>\n      <td>1</td>\n      <td>5</td>\n      <td>DL</td>\n      <td>N836DN</td>\n      <td>1399</td>\n      <td>10397</td>\n      <td>ATL</td>\n      <td>...</td>\n      <td>2143</td>\n      <td>2102.0</td>\n      <td>-41.0</td>\n      <td>0.0</td>\n      <td>0.0</td>\n      <td>0.0</td>\n      <td>338.0</td>\n      <td>295.0</td>\n      <td>2182.0</td>\n      <td>NaN</td>\n    </tr>\n    <tr>\n      <th>1</th>\n      <td>2016</td>\n      <td>1</td>\n      <td>1</td>\n      <td>1</td>\n      <td>5</td>\n      <td>DL</td>\n      <td>N964DN</td>\n      <td>1476</td>\n      <td>11433</td>\n      <td>DTW</td>\n      <td>...</td>\n      <td>1435</td>\n      <td>1439.0</td>\n      <td>4.0</td>\n      <td>0.0</td>\n      <td>0.0</td>\n      <td>0.0</td>\n      <td>110.0</td>\n      <td>115.0</td>\n      <td>528.0</td>\n      <td>NaN</td>\n    </tr>\n    <tr>\n      <th>2</th>\n      <td>2016</td>\n      <td>1</td>\n      <td>1</td>\n      <td>1</td>\n      <td>5</td>\n      <td>DL</td>\n      <td>N813DN</td>\n      <td>1597</td>\n      <td>10397</td>\n      <td>ATL</td>\n      <td>...</td>\n      <td>1215</td>\n      <td>1142.0</td>\n      <td>-33.0</td>\n      <td>0.0</td>\n      <td>0.0</td>\n      <td>0.0</td>\n      <td>335.0</td>\n      <td>300.0</td>\n      <td>2182.0</td>\n      <td>NaN</td>\n    </tr>\n    <tr>\n      <th>3</th>\n      <td>2016</td>\n      <td>1</td>\n      <td>1</td>\n      <td>1</td>\n      <td>5</td>\n      <td>DL</td>\n      <td>N587NW</td>\n      <td>1768</td>\n      <td>14747</td>\n      <td>SEA</td>\n      <td>...</td>\n      <td>1335</td>\n      <td>1345.0</td>\n      <td>10.0</td>\n      <td>0.0</td>\n      <td>0.0</td>\n      <td>0.0</td>\n      <td>196.0</td>\n      <td>205.0</td>\n      <td>1399.0</td>\n      <td>NaN</td>\n    </tr>\n    <tr>\n      <th>4</th>\n      <td>2016</td>\n      <td>1</td>\n      <td>1</td>\n      <td>1</td>\n      <td>5</td>\n      <td>DL</td>\n      <td>N836DN</td>\n      <td>1823</td>\n      <td>14747</td>\n      <td>SEA</td>\n      <td>...</td>\n      <td>607</td>\n      <td>615.0</td>\n      <td>8.0</td>\n      <td>0.0</td>\n      <td>0.0</td>\n      <td>0.0</td>\n      <td>247.0</td>\n      <td>259.0</td>\n      <td>1927.0</td>\n      <td>NaN</td>\n    </tr>\n  </tbody>\n</table>\n<p>5 rows × 26 columns</p>\n</div>",
            "text/plain": "   YEAR  QUARTER  MONTH  DAY_OF_MONTH  DAY_OF_WEEK UNIQUE_CARRIER TAIL_NUM  \\\n0  2016        1      1             1            5             DL   N836DN   \n1  2016        1      1             1            5             DL   N964DN   \n2  2016        1      1             1            5             DL   N813DN   \n3  2016        1      1             1            5             DL   N587NW   \n4  2016        1      1             1            5             DL   N836DN   \n\n   FL_NUM  ORIGIN_AIRPORT_ID ORIGIN     ...       CRS_ARR_TIME ARR_TIME  \\\n0    1399              10397    ATL     ...               2143   2102.0   \n1    1476              11433    DTW     ...               1435   1439.0   \n2    1597              10397    ATL     ...               1215   1142.0   \n3    1768              14747    SEA     ...               1335   1345.0   \n4    1823              14747    SEA     ...                607    615.0   \n\n   ARR_DELAY  ARR_DEL15  CANCELLED  DIVERTED  CRS_ELAPSED_TIME  \\\n0      -41.0        0.0        0.0       0.0             338.0   \n1        4.0        0.0        0.0       0.0             110.0   \n2      -33.0        0.0        0.0       0.0             335.0   \n3       10.0        0.0        0.0       0.0             196.0   \n4        8.0        0.0        0.0       0.0             247.0   \n\n   ACTUAL_ELAPSED_TIME  DISTANCE  Unnamed: 25  \n0                295.0    2182.0          NaN  \n1                115.0     528.0          NaN  \n2                300.0    2182.0          NaN  \n3                205.0    1399.0          NaN  \n4                259.0    1927.0          NaN  \n\n[5 rows x 26 columns]"
          },
          "metadata": {}
        }
      ]
    },
    {
      "metadata": {
        "trusted": true
      },
      "cell_type": "code",
      "source": "df.tail() #last 5 entities of the dataset",
      "execution_count": 2,
      "outputs": [
        {
          "output_type": "execute_result",
          "execution_count": 2,
          "data": {
            "text/html": "<div>\n<style scoped>\n    .dataframe tbody tr th:only-of-type {\n        vertical-align: middle;\n    }\n\n    .dataframe tbody tr th {\n        vertical-align: top;\n    }\n\n    .dataframe thead th {\n        text-align: right;\n    }\n</style>\n<table border=\"1\" class=\"dataframe\">\n  <thead>\n    <tr style=\"text-align: right;\">\n      <th></th>\n      <th>YEAR</th>\n      <th>QUARTER</th>\n      <th>MONTH</th>\n      <th>DAY_OF_MONTH</th>\n      <th>DAY_OF_WEEK</th>\n      <th>UNIQUE_CARRIER</th>\n      <th>TAIL_NUM</th>\n      <th>FL_NUM</th>\n      <th>ORIGIN_AIRPORT_ID</th>\n      <th>ORIGIN</th>\n      <th>...</th>\n      <th>CRS_ARR_TIME</th>\n      <th>ARR_TIME</th>\n      <th>ARR_DELAY</th>\n      <th>ARR_DEL15</th>\n      <th>CANCELLED</th>\n      <th>DIVERTED</th>\n      <th>CRS_ELAPSED_TIME</th>\n      <th>ACTUAL_ELAPSED_TIME</th>\n      <th>DISTANCE</th>\n      <th>Unnamed: 25</th>\n    </tr>\n  </thead>\n  <tbody>\n    <tr>\n      <th>11226</th>\n      <td>2016</td>\n      <td>4</td>\n      <td>12</td>\n      <td>30</td>\n      <td>5</td>\n      <td>DL</td>\n      <td>N940DL</td>\n      <td>1715</td>\n      <td>11433</td>\n      <td>DTW</td>\n      <td>...</td>\n      <td>1223</td>\n      <td>1148.0</td>\n      <td>-35.0</td>\n      <td>0.0</td>\n      <td>0.0</td>\n      <td>0.0</td>\n      <td>138.0</td>\n      <td>105.0</td>\n      <td>594.0</td>\n      <td>NaN</td>\n    </tr>\n    <tr>\n      <th>11227</th>\n      <td>2016</td>\n      <td>4</td>\n      <td>12</td>\n      <td>30</td>\n      <td>5</td>\n      <td>DL</td>\n      <td>N836DN</td>\n      <td>1770</td>\n      <td>14747</td>\n      <td>SEA</td>\n      <td>...</td>\n      <td>2046</td>\n      <td>2100.0</td>\n      <td>14.0</td>\n      <td>0.0</td>\n      <td>0.0</td>\n      <td>0.0</td>\n      <td>201.0</td>\n      <td>181.0</td>\n      <td>1399.0</td>\n      <td>NaN</td>\n    </tr>\n    <tr>\n      <th>11228</th>\n      <td>2016</td>\n      <td>4</td>\n      <td>12</td>\n      <td>30</td>\n      <td>5</td>\n      <td>DL</td>\n      <td>N583NW</td>\n      <td>1823</td>\n      <td>11433</td>\n      <td>DTW</td>\n      <td>...</td>\n      <td>2210</td>\n      <td>2154.0</td>\n      <td>-16.0</td>\n      <td>0.0</td>\n      <td>0.0</td>\n      <td>0.0</td>\n      <td>311.0</td>\n      <td>295.0</td>\n      <td>1927.0</td>\n      <td>NaN</td>\n    </tr>\n    <tr>\n      <th>11229</th>\n      <td>2016</td>\n      <td>4</td>\n      <td>12</td>\n      <td>30</td>\n      <td>5</td>\n      <td>DL</td>\n      <td>N554NW</td>\n      <td>1901</td>\n      <td>10397</td>\n      <td>ATL</td>\n      <td>...</td>\n      <td>1806</td>\n      <td>1801.0</td>\n      <td>-5.0</td>\n      <td>0.0</td>\n      <td>0.0</td>\n      <td>0.0</td>\n      <td>336.0</td>\n      <td>332.0</td>\n      <td>2182.0</td>\n      <td>NaN</td>\n    </tr>\n    <tr>\n      <th>11230</th>\n      <td>2016</td>\n      <td>4</td>\n      <td>12</td>\n      <td>30</td>\n      <td>5</td>\n      <td>DL</td>\n      <td>N843DN</td>\n      <td>2005</td>\n      <td>10397</td>\n      <td>ATL</td>\n      <td>...</td>\n      <td>925</td>\n      <td>913.0</td>\n      <td>-12.0</td>\n      <td>0.0</td>\n      <td>0.0</td>\n      <td>0.0</td>\n      <td>120.0</td>\n      <td>110.0</td>\n      <td>594.0</td>\n      <td>NaN</td>\n    </tr>\n  </tbody>\n</table>\n<p>5 rows × 26 columns</p>\n</div>",
            "text/plain": "       YEAR  QUARTER  MONTH  DAY_OF_MONTH  DAY_OF_WEEK UNIQUE_CARRIER  \\\n11226  2016        4     12            30            5             DL   \n11227  2016        4     12            30            5             DL   \n11228  2016        4     12            30            5             DL   \n11229  2016        4     12            30            5             DL   \n11230  2016        4     12            30            5             DL   \n\n      TAIL_NUM  FL_NUM  ORIGIN_AIRPORT_ID ORIGIN     ...       CRS_ARR_TIME  \\\n11226   N940DL    1715              11433    DTW     ...               1223   \n11227   N836DN    1770              14747    SEA     ...               2046   \n11228   N583NW    1823              11433    DTW     ...               2210   \n11229   N554NW    1901              10397    ATL     ...               1806   \n11230   N843DN    2005              10397    ATL     ...                925   \n\n      ARR_TIME  ARR_DELAY  ARR_DEL15  CANCELLED  DIVERTED  CRS_ELAPSED_TIME  \\\n11226   1148.0      -35.0        0.0        0.0       0.0             138.0   \n11227   2100.0       14.0        0.0        0.0       0.0             201.0   \n11228   2154.0      -16.0        0.0        0.0       0.0             311.0   \n11229   1801.0       -5.0        0.0        0.0       0.0             336.0   \n11230    913.0      -12.0        0.0        0.0       0.0             120.0   \n\n       ACTUAL_ELAPSED_TIME  DISTANCE  Unnamed: 25  \n11226                105.0     594.0          NaN  \n11227                181.0    1399.0          NaN  \n11228                295.0    1927.0          NaN  \n11229                332.0    2182.0          NaN  \n11230                110.0     594.0          NaN  \n\n[5 rows x 26 columns]"
          },
          "metadata": {}
        }
      ]
    },
    {
      "metadata": {
        "trusted": true
      },
      "cell_type": "code",
      "source": "df.shape",
      "execution_count": 3,
      "outputs": [
        {
          "output_type": "execute_result",
          "execution_count": 3,
          "data": {
            "text/plain": "(11231, 26)"
          },
          "metadata": {}
        }
      ]
    },
    {
      "metadata": {
        "trusted": true
      },
      "cell_type": "code",
      "source": "df.columns #columns of the dataset",
      "execution_count": 4,
      "outputs": [
        {
          "output_type": "execute_result",
          "execution_count": 4,
          "data": {
            "text/plain": "Index(['YEAR', 'QUARTER', 'MONTH', 'DAY_OF_MONTH', 'DAY_OF_WEEK',\n       'UNIQUE_CARRIER', 'TAIL_NUM', 'FL_NUM', 'ORIGIN_AIRPORT_ID', 'ORIGIN',\n       'DEST_AIRPORT_ID', 'DEST', 'CRS_DEP_TIME', 'DEP_TIME', 'DEP_DELAY',\n       'DEP_DEL15', 'CRS_ARR_TIME', 'ARR_TIME', 'ARR_DELAY', 'ARR_DEL15',\n       'CANCELLED', 'DIVERTED', 'CRS_ELAPSED_TIME', 'ACTUAL_ELAPSED_TIME',\n       'DISTANCE', 'Unnamed: 25'],\n      dtype='object')"
          },
          "metadata": {}
        }
      ]
    },
    {
      "metadata": {
        "trusted": true
      },
      "cell_type": "code",
      "source": "df.isnull().values.any() #checking if there is any null values in the dataset",
      "execution_count": 5,
      "outputs": [
        {
          "output_type": "execute_result",
          "execution_count": 5,
          "data": {
            "text/plain": "True"
          },
          "metadata": {}
        }
      ]
    },
    {
      "metadata": {
        "trusted": true
      },
      "cell_type": "code",
      "source": "df.isnull().sum() #no. of null values in each column",
      "execution_count": 6,
      "outputs": [
        {
          "output_type": "execute_result",
          "execution_count": 6,
          "data": {
            "text/plain": "YEAR                       0\nQUARTER                    0\nMONTH                      0\nDAY_OF_MONTH               0\nDAY_OF_WEEK                0\nUNIQUE_CARRIER             0\nTAIL_NUM                   0\nFL_NUM                     0\nORIGIN_AIRPORT_ID          0\nORIGIN                     0\nDEST_AIRPORT_ID            0\nDEST                       0\nCRS_DEP_TIME               0\nDEP_TIME                 107\nDEP_DELAY                107\nDEP_DEL15                107\nCRS_ARR_TIME               0\nARR_TIME                 115\nARR_DELAY                188\nARR_DEL15                188\nCANCELLED                  0\nDIVERTED                   0\nCRS_ELAPSED_TIME           0\nACTUAL_ELAPSED_TIME      188\nDISTANCE                   0\nUnnamed: 25            11231\ndtype: int64"
          },
          "metadata": {}
        }
      ]
    },
    {
      "metadata": {
        "trusted": true
      },
      "cell_type": "code",
      "source": "df = df.drop('Unnamed= 25', axis=1) #dropping a column",
      "execution_count": 7,
      "outputs": [
        {
          "output_type": "error",
          "ename": "KeyError",
          "evalue": "\"['Unnamed= 25'] not found in axis\"",
          "traceback": [
            "\u001b[0;31m---------------------------------------------------------------------------\u001b[0m",
            "\u001b[0;31mKeyError\u001b[0m                                  Traceback (most recent call last)",
            "\u001b[0;32m<ipython-input-7-bc724d81bf2b>\u001b[0m in \u001b[0;36m<module>\u001b[0;34m\u001b[0m\n\u001b[0;32m----> 1\u001b[0;31m \u001b[0mdf\u001b[0m \u001b[0;34m=\u001b[0m \u001b[0mdf\u001b[0m\u001b[0;34m.\u001b[0m\u001b[0mdrop\u001b[0m\u001b[0;34m(\u001b[0m\u001b[0;34m'Unnamed= 25'\u001b[0m\u001b[0;34m,\u001b[0m \u001b[0maxis\u001b[0m\u001b[0;34m=\u001b[0m\u001b[0;36m1\u001b[0m\u001b[0;34m)\u001b[0m \u001b[0;31m#dropping a column\u001b[0m\u001b[0;34m\u001b[0m\u001b[0m\n\u001b[0m",
            "\u001b[0;32m~/anaconda3_501/lib/python3.6/site-packages/pandas/core/frame.py\u001b[0m in \u001b[0;36mdrop\u001b[0;34m(self, labels, axis, index, columns, level, inplace, errors)\u001b[0m\n\u001b[1;32m   3695\u001b[0m                                            \u001b[0mindex\u001b[0m\u001b[0;34m=\u001b[0m\u001b[0mindex\u001b[0m\u001b[0;34m,\u001b[0m \u001b[0mcolumns\u001b[0m\u001b[0;34m=\u001b[0m\u001b[0mcolumns\u001b[0m\u001b[0;34m,\u001b[0m\u001b[0;34m\u001b[0m\u001b[0m\n\u001b[1;32m   3696\u001b[0m                                            \u001b[0mlevel\u001b[0m\u001b[0;34m=\u001b[0m\u001b[0mlevel\u001b[0m\u001b[0;34m,\u001b[0m \u001b[0minplace\u001b[0m\u001b[0;34m=\u001b[0m\u001b[0minplace\u001b[0m\u001b[0;34m,\u001b[0m\u001b[0;34m\u001b[0m\u001b[0m\n\u001b[0;32m-> 3697\u001b[0;31m                                            errors=errors)\n\u001b[0m\u001b[1;32m   3698\u001b[0m \u001b[0;34m\u001b[0m\u001b[0m\n\u001b[1;32m   3699\u001b[0m     @rewrite_axis_style_signature('mapper', [('copy', True),\n",
            "\u001b[0;32m~/anaconda3_501/lib/python3.6/site-packages/pandas/core/generic.py\u001b[0m in \u001b[0;36mdrop\u001b[0;34m(self, labels, axis, index, columns, level, inplace, errors)\u001b[0m\n\u001b[1;32m   3109\u001b[0m         \u001b[0;32mfor\u001b[0m \u001b[0maxis\u001b[0m\u001b[0;34m,\u001b[0m \u001b[0mlabels\u001b[0m \u001b[0;32min\u001b[0m \u001b[0maxes\u001b[0m\u001b[0;34m.\u001b[0m\u001b[0mitems\u001b[0m\u001b[0;34m(\u001b[0m\u001b[0;34m)\u001b[0m\u001b[0;34m:\u001b[0m\u001b[0;34m\u001b[0m\u001b[0m\n\u001b[1;32m   3110\u001b[0m             \u001b[0;32mif\u001b[0m \u001b[0mlabels\u001b[0m \u001b[0;32mis\u001b[0m \u001b[0;32mnot\u001b[0m \u001b[0;32mNone\u001b[0m\u001b[0;34m:\u001b[0m\u001b[0;34m\u001b[0m\u001b[0m\n\u001b[0;32m-> 3111\u001b[0;31m                 \u001b[0mobj\u001b[0m \u001b[0;34m=\u001b[0m \u001b[0mobj\u001b[0m\u001b[0;34m.\u001b[0m\u001b[0m_drop_axis\u001b[0m\u001b[0;34m(\u001b[0m\u001b[0mlabels\u001b[0m\u001b[0;34m,\u001b[0m \u001b[0maxis\u001b[0m\u001b[0;34m,\u001b[0m \u001b[0mlevel\u001b[0m\u001b[0;34m=\u001b[0m\u001b[0mlevel\u001b[0m\u001b[0;34m,\u001b[0m \u001b[0merrors\u001b[0m\u001b[0;34m=\u001b[0m\u001b[0merrors\u001b[0m\u001b[0;34m)\u001b[0m\u001b[0;34m\u001b[0m\u001b[0m\n\u001b[0m\u001b[1;32m   3112\u001b[0m \u001b[0;34m\u001b[0m\u001b[0m\n\u001b[1;32m   3113\u001b[0m         \u001b[0;32mif\u001b[0m \u001b[0minplace\u001b[0m\u001b[0;34m:\u001b[0m\u001b[0;34m\u001b[0m\u001b[0m\n",
            "\u001b[0;32m~/anaconda3_501/lib/python3.6/site-packages/pandas/core/generic.py\u001b[0m in \u001b[0;36m_drop_axis\u001b[0;34m(self, labels, axis, level, errors)\u001b[0m\n\u001b[1;32m   3141\u001b[0m                 \u001b[0mnew_axis\u001b[0m \u001b[0;34m=\u001b[0m \u001b[0maxis\u001b[0m\u001b[0;34m.\u001b[0m\u001b[0mdrop\u001b[0m\u001b[0;34m(\u001b[0m\u001b[0mlabels\u001b[0m\u001b[0;34m,\u001b[0m \u001b[0mlevel\u001b[0m\u001b[0;34m=\u001b[0m\u001b[0mlevel\u001b[0m\u001b[0;34m,\u001b[0m \u001b[0merrors\u001b[0m\u001b[0;34m=\u001b[0m\u001b[0merrors\u001b[0m\u001b[0;34m)\u001b[0m\u001b[0;34m\u001b[0m\u001b[0m\n\u001b[1;32m   3142\u001b[0m             \u001b[0;32melse\u001b[0m\u001b[0;34m:\u001b[0m\u001b[0;34m\u001b[0m\u001b[0m\n\u001b[0;32m-> 3143\u001b[0;31m                 \u001b[0mnew_axis\u001b[0m \u001b[0;34m=\u001b[0m \u001b[0maxis\u001b[0m\u001b[0;34m.\u001b[0m\u001b[0mdrop\u001b[0m\u001b[0;34m(\u001b[0m\u001b[0mlabels\u001b[0m\u001b[0;34m,\u001b[0m \u001b[0merrors\u001b[0m\u001b[0;34m=\u001b[0m\u001b[0merrors\u001b[0m\u001b[0;34m)\u001b[0m\u001b[0;34m\u001b[0m\u001b[0m\n\u001b[0m\u001b[1;32m   3144\u001b[0m             \u001b[0mresult\u001b[0m \u001b[0;34m=\u001b[0m \u001b[0mself\u001b[0m\u001b[0;34m.\u001b[0m\u001b[0mreindex\u001b[0m\u001b[0;34m(\u001b[0m\u001b[0;34m**\u001b[0m\u001b[0;34m{\u001b[0m\u001b[0maxis_name\u001b[0m\u001b[0;34m:\u001b[0m \u001b[0mnew_axis\u001b[0m\u001b[0;34m}\u001b[0m\u001b[0;34m)\u001b[0m\u001b[0;34m\u001b[0m\u001b[0m\n\u001b[1;32m   3145\u001b[0m \u001b[0;34m\u001b[0m\u001b[0m\n",
            "\u001b[0;32m~/anaconda3_501/lib/python3.6/site-packages/pandas/core/indexes/base.py\u001b[0m in \u001b[0;36mdrop\u001b[0;34m(self, labels, errors)\u001b[0m\n\u001b[1;32m   4402\u001b[0m             \u001b[0;32mif\u001b[0m \u001b[0merrors\u001b[0m \u001b[0;34m!=\u001b[0m \u001b[0;34m'ignore'\u001b[0m\u001b[0;34m:\u001b[0m\u001b[0;34m\u001b[0m\u001b[0m\n\u001b[1;32m   4403\u001b[0m                 raise KeyError(\n\u001b[0;32m-> 4404\u001b[0;31m                     '{} not found in axis'.format(labels[mask]))\n\u001b[0m\u001b[1;32m   4405\u001b[0m             \u001b[0mindexer\u001b[0m \u001b[0;34m=\u001b[0m \u001b[0mindexer\u001b[0m\u001b[0;34m[\u001b[0m\u001b[0;34m~\u001b[0m\u001b[0mmask\u001b[0m\u001b[0;34m]\u001b[0m\u001b[0;34m\u001b[0m\u001b[0m\n\u001b[1;32m   4406\u001b[0m         \u001b[0;32mreturn\u001b[0m \u001b[0mself\u001b[0m\u001b[0;34m.\u001b[0m\u001b[0mdelete\u001b[0m\u001b[0;34m(\u001b[0m\u001b[0mindexer\u001b[0m\u001b[0;34m)\u001b[0m\u001b[0;34m\u001b[0m\u001b[0m\n",
            "\u001b[0;31mKeyError\u001b[0m: \"['Unnamed= 25'] not found in axis\""
          ]
        }
      ]
    },
    {
      "metadata": {
        "trusted": true
      },
      "cell_type": "code",
      "source": "df.isnull().sum()",
      "execution_count": 8,
      "outputs": [
        {
          "output_type": "execute_result",
          "execution_count": 8,
          "data": {
            "text/plain": "YEAR                       0\nQUARTER                    0\nMONTH                      0\nDAY_OF_MONTH               0\nDAY_OF_WEEK                0\nUNIQUE_CARRIER             0\nTAIL_NUM                   0\nFL_NUM                     0\nORIGIN_AIRPORT_ID          0\nORIGIN                     0\nDEST_AIRPORT_ID            0\nDEST                       0\nCRS_DEP_TIME               0\nDEP_TIME                 107\nDEP_DELAY                107\nDEP_DEL15                107\nCRS_ARR_TIME               0\nARR_TIME                 115\nARR_DELAY                188\nARR_DEL15                188\nCANCELLED                  0\nDIVERTED                   0\nCRS_ELAPSED_TIME           0\nACTUAL_ELAPSED_TIME      188\nDISTANCE                   0\nUnnamed: 25            11231\ndtype: int64"
          },
          "metadata": {}
        }
      ]
    },
    {
      "metadata": {
        "trusted": true
      },
      "cell_type": "code",
      "source": "df.head()",
      "execution_count": 9,
      "outputs": [
        {
          "output_type": "execute_result",
          "execution_count": 9,
          "data": {
            "text/html": "<div>\n<style scoped>\n    .dataframe tbody tr th:only-of-type {\n        vertical-align: middle;\n    }\n\n    .dataframe tbody tr th {\n        vertical-align: top;\n    }\n\n    .dataframe thead th {\n        text-align: right;\n    }\n</style>\n<table border=\"1\" class=\"dataframe\">\n  <thead>\n    <tr style=\"text-align: right;\">\n      <th></th>\n      <th>YEAR</th>\n      <th>QUARTER</th>\n      <th>MONTH</th>\n      <th>DAY_OF_MONTH</th>\n      <th>DAY_OF_WEEK</th>\n      <th>UNIQUE_CARRIER</th>\n      <th>TAIL_NUM</th>\n      <th>FL_NUM</th>\n      <th>ORIGIN_AIRPORT_ID</th>\n      <th>ORIGIN</th>\n      <th>...</th>\n      <th>CRS_ARR_TIME</th>\n      <th>ARR_TIME</th>\n      <th>ARR_DELAY</th>\n      <th>ARR_DEL15</th>\n      <th>CANCELLED</th>\n      <th>DIVERTED</th>\n      <th>CRS_ELAPSED_TIME</th>\n      <th>ACTUAL_ELAPSED_TIME</th>\n      <th>DISTANCE</th>\n      <th>Unnamed: 25</th>\n    </tr>\n  </thead>\n  <tbody>\n    <tr>\n      <th>0</th>\n      <td>2016</td>\n      <td>1</td>\n      <td>1</td>\n      <td>1</td>\n      <td>5</td>\n      <td>DL</td>\n      <td>N836DN</td>\n      <td>1399</td>\n      <td>10397</td>\n      <td>ATL</td>\n      <td>...</td>\n      <td>2143</td>\n      <td>2102.0</td>\n      <td>-41.0</td>\n      <td>0.0</td>\n      <td>0.0</td>\n      <td>0.0</td>\n      <td>338.0</td>\n      <td>295.0</td>\n      <td>2182.0</td>\n      <td>NaN</td>\n    </tr>\n    <tr>\n      <th>1</th>\n      <td>2016</td>\n      <td>1</td>\n      <td>1</td>\n      <td>1</td>\n      <td>5</td>\n      <td>DL</td>\n      <td>N964DN</td>\n      <td>1476</td>\n      <td>11433</td>\n      <td>DTW</td>\n      <td>...</td>\n      <td>1435</td>\n      <td>1439.0</td>\n      <td>4.0</td>\n      <td>0.0</td>\n      <td>0.0</td>\n      <td>0.0</td>\n      <td>110.0</td>\n      <td>115.0</td>\n      <td>528.0</td>\n      <td>NaN</td>\n    </tr>\n    <tr>\n      <th>2</th>\n      <td>2016</td>\n      <td>1</td>\n      <td>1</td>\n      <td>1</td>\n      <td>5</td>\n      <td>DL</td>\n      <td>N813DN</td>\n      <td>1597</td>\n      <td>10397</td>\n      <td>ATL</td>\n      <td>...</td>\n      <td>1215</td>\n      <td>1142.0</td>\n      <td>-33.0</td>\n      <td>0.0</td>\n      <td>0.0</td>\n      <td>0.0</td>\n      <td>335.0</td>\n      <td>300.0</td>\n      <td>2182.0</td>\n      <td>NaN</td>\n    </tr>\n    <tr>\n      <th>3</th>\n      <td>2016</td>\n      <td>1</td>\n      <td>1</td>\n      <td>1</td>\n      <td>5</td>\n      <td>DL</td>\n      <td>N587NW</td>\n      <td>1768</td>\n      <td>14747</td>\n      <td>SEA</td>\n      <td>...</td>\n      <td>1335</td>\n      <td>1345.0</td>\n      <td>10.0</td>\n      <td>0.0</td>\n      <td>0.0</td>\n      <td>0.0</td>\n      <td>196.0</td>\n      <td>205.0</td>\n      <td>1399.0</td>\n      <td>NaN</td>\n    </tr>\n    <tr>\n      <th>4</th>\n      <td>2016</td>\n      <td>1</td>\n      <td>1</td>\n      <td>1</td>\n      <td>5</td>\n      <td>DL</td>\n      <td>N836DN</td>\n      <td>1823</td>\n      <td>14747</td>\n      <td>SEA</td>\n      <td>...</td>\n      <td>607</td>\n      <td>615.0</td>\n      <td>8.0</td>\n      <td>0.0</td>\n      <td>0.0</td>\n      <td>0.0</td>\n      <td>247.0</td>\n      <td>259.0</td>\n      <td>1927.0</td>\n      <td>NaN</td>\n    </tr>\n  </tbody>\n</table>\n<p>5 rows × 26 columns</p>\n</div>",
            "text/plain": "   YEAR  QUARTER  MONTH  DAY_OF_MONTH  DAY_OF_WEEK UNIQUE_CARRIER TAIL_NUM  \\\n0  2016        1      1             1            5             DL   N836DN   \n1  2016        1      1             1            5             DL   N964DN   \n2  2016        1      1             1            5             DL   N813DN   \n3  2016        1      1             1            5             DL   N587NW   \n4  2016        1      1             1            5             DL   N836DN   \n\n   FL_NUM  ORIGIN_AIRPORT_ID ORIGIN     ...       CRS_ARR_TIME ARR_TIME  \\\n0    1399              10397    ATL     ...               2143   2102.0   \n1    1476              11433    DTW     ...               1435   1439.0   \n2    1597              10397    ATL     ...               1215   1142.0   \n3    1768              14747    SEA     ...               1335   1345.0   \n4    1823              14747    SEA     ...                607    615.0   \n\n   ARR_DELAY  ARR_DEL15  CANCELLED  DIVERTED  CRS_ELAPSED_TIME  \\\n0      -41.0        0.0        0.0       0.0             338.0   \n1        4.0        0.0        0.0       0.0             110.0   \n2      -33.0        0.0        0.0       0.0             335.0   \n3       10.0        0.0        0.0       0.0             196.0   \n4        8.0        0.0        0.0       0.0             247.0   \n\n   ACTUAL_ELAPSED_TIME  DISTANCE  Unnamed: 25  \n0                295.0    2182.0          NaN  \n1                115.0     528.0          NaN  \n2                300.0    2182.0          NaN  \n3                205.0    1399.0          NaN  \n4                259.0    1927.0          NaN  \n\n[5 rows x 26 columns]"
          },
          "metadata": {}
        }
      ]
    },
    {
      "metadata": {
        "trusted": true
      },
      "cell_type": "code",
      "source": "df = df[[\"MONTH\", \"DAY_OF_MONTH\", \"DAY_OF_WEEK\", \"ORIGIN\", \"DEST\",\"CRS_DEP_TIME\", \"ARR_DEL15\"]]\ndf.isnull().sum()",
      "execution_count": 10,
      "outputs": [
        {
          "output_type": "execute_result",
          "execution_count": 10,
          "data": {
            "text/plain": "MONTH             0\nDAY_OF_MONTH      0\nDAY_OF_WEEK       0\nORIGIN            0\nDEST              0\nCRS_DEP_TIME      0\nARR_DEL15       188\ndtype: int64"
          },
          "metadata": {}
        }
      ]
    },
    {
      "metadata": {
        "trusted": true
      },
      "cell_type": "code",
      "source": "df = df.fillna({'ARR_DEL15': 1}) #fillna func. fills up the null data of the given column \ndf.isnull().sum()\ndf.iloc[177:185]",
      "execution_count": 11,
      "outputs": [
        {
          "output_type": "execute_result",
          "execution_count": 11,
          "data": {
            "text/html": "<div>\n<style scoped>\n    .dataframe tbody tr th:only-of-type {\n        vertical-align: middle;\n    }\n\n    .dataframe tbody tr th {\n        vertical-align: top;\n    }\n\n    .dataframe thead th {\n        text-align: right;\n    }\n</style>\n<table border=\"1\" class=\"dataframe\">\n  <thead>\n    <tr style=\"text-align: right;\">\n      <th></th>\n      <th>MONTH</th>\n      <th>DAY_OF_MONTH</th>\n      <th>DAY_OF_WEEK</th>\n      <th>ORIGIN</th>\n      <th>DEST</th>\n      <th>CRS_DEP_TIME</th>\n      <th>ARR_DEL15</th>\n    </tr>\n  </thead>\n  <tbody>\n    <tr>\n      <th>177</th>\n      <td>1</td>\n      <td>9</td>\n      <td>6</td>\n      <td>MSP</td>\n      <td>SEA</td>\n      <td>701</td>\n      <td>1.0</td>\n    </tr>\n    <tr>\n      <th>178</th>\n      <td>1</td>\n      <td>9</td>\n      <td>6</td>\n      <td>DTW</td>\n      <td>JFK</td>\n      <td>1527</td>\n      <td>0.0</td>\n    </tr>\n    <tr>\n      <th>179</th>\n      <td>1</td>\n      <td>10</td>\n      <td>7</td>\n      <td>MSP</td>\n      <td>DTW</td>\n      <td>1348</td>\n      <td>1.0</td>\n    </tr>\n    <tr>\n      <th>180</th>\n      <td>1</td>\n      <td>10</td>\n      <td>7</td>\n      <td>DTW</td>\n      <td>MSP</td>\n      <td>1540</td>\n      <td>0.0</td>\n    </tr>\n    <tr>\n      <th>181</th>\n      <td>1</td>\n      <td>10</td>\n      <td>7</td>\n      <td>JFK</td>\n      <td>ATL</td>\n      <td>1325</td>\n      <td>0.0</td>\n    </tr>\n    <tr>\n      <th>182</th>\n      <td>1</td>\n      <td>10</td>\n      <td>7</td>\n      <td>JFK</td>\n      <td>ATL</td>\n      <td>610</td>\n      <td>0.0</td>\n    </tr>\n    <tr>\n      <th>183</th>\n      <td>1</td>\n      <td>10</td>\n      <td>7</td>\n      <td>JFK</td>\n      <td>SEA</td>\n      <td>1615</td>\n      <td>0.0</td>\n    </tr>\n    <tr>\n      <th>184</th>\n      <td>1</td>\n      <td>10</td>\n      <td>7</td>\n      <td>MSP</td>\n      <td>DTW</td>\n      <td>625</td>\n      <td>1.0</td>\n    </tr>\n  </tbody>\n</table>\n</div>",
            "text/plain": "     MONTH  DAY_OF_MONTH  DAY_OF_WEEK ORIGIN DEST  CRS_DEP_TIME  ARR_DEL15\n177      1             9            6    MSP  SEA           701        1.0\n178      1             9            6    DTW  JFK          1527        0.0\n179      1            10            7    MSP  DTW          1348        1.0\n180      1            10            7    DTW  MSP          1540        0.0\n181      1            10            7    JFK  ATL          1325        0.0\n182      1            10            7    JFK  ATL           610        0.0\n183      1            10            7    JFK  SEA          1615        0.0\n184      1            10            7    MSP  DTW           625        1.0"
          },
          "metadata": {}
        }
      ]
    },
    {
      "metadata": {
        "trusted": true
      },
      "cell_type": "code",
      "source": "import math\nfor index, row in df.iterrows():\n    df.loc[index, 'CRS_DEP_TIME'] = math.floor(row['CRS_DEP_TIME'] / 100) #index means row index, row contains all columns with values\ndf.head()",
      "execution_count": 12,
      "outputs": [
        {
          "output_type": "execute_result",
          "execution_count": 12,
          "data": {
            "text/html": "<div>\n<style scoped>\n    .dataframe tbody tr th:only-of-type {\n        vertical-align: middle;\n    }\n\n    .dataframe tbody tr th {\n        vertical-align: top;\n    }\n\n    .dataframe thead th {\n        text-align: right;\n    }\n</style>\n<table border=\"1\" class=\"dataframe\">\n  <thead>\n    <tr style=\"text-align: right;\">\n      <th></th>\n      <th>MONTH</th>\n      <th>DAY_OF_MONTH</th>\n      <th>DAY_OF_WEEK</th>\n      <th>ORIGIN</th>\n      <th>DEST</th>\n      <th>CRS_DEP_TIME</th>\n      <th>ARR_DEL15</th>\n    </tr>\n  </thead>\n  <tbody>\n    <tr>\n      <th>0</th>\n      <td>1</td>\n      <td>1</td>\n      <td>5</td>\n      <td>ATL</td>\n      <td>SEA</td>\n      <td>19</td>\n      <td>0.0</td>\n    </tr>\n    <tr>\n      <th>1</th>\n      <td>1</td>\n      <td>1</td>\n      <td>5</td>\n      <td>DTW</td>\n      <td>MSP</td>\n      <td>13</td>\n      <td>0.0</td>\n    </tr>\n    <tr>\n      <th>2</th>\n      <td>1</td>\n      <td>1</td>\n      <td>5</td>\n      <td>ATL</td>\n      <td>SEA</td>\n      <td>9</td>\n      <td>0.0</td>\n    </tr>\n    <tr>\n      <th>3</th>\n      <td>1</td>\n      <td>1</td>\n      <td>5</td>\n      <td>SEA</td>\n      <td>MSP</td>\n      <td>8</td>\n      <td>0.0</td>\n    </tr>\n    <tr>\n      <th>4</th>\n      <td>1</td>\n      <td>1</td>\n      <td>5</td>\n      <td>SEA</td>\n      <td>DTW</td>\n      <td>23</td>\n      <td>0.0</td>\n    </tr>\n  </tbody>\n</table>\n</div>",
            "text/plain": "   MONTH  DAY_OF_MONTH  DAY_OF_WEEK ORIGIN DEST  CRS_DEP_TIME  ARR_DEL15\n0      1             1            5    ATL  SEA            19        0.0\n1      1             1            5    DTW  MSP            13        0.0\n2      1             1            5    ATL  SEA             9        0.0\n3      1             1            5    SEA  MSP             8        0.0\n4      1             1            5    SEA  DTW            23        0.0"
          },
          "metadata": {}
        }
      ]
    },
    {
      "metadata": {
        "trusted": true
      },
      "cell_type": "code",
      "source": "from sklearn.model_selection import train_test_split\ntrain_x, test_x, train_y, test_y = train_test_split(df.drop('ARR_DEL15',axis=1), df['ARR_DEL15'], test_size= 0.2, random_state=42)",
      "execution_count": 19,
      "outputs": []
    },
    {
      "metadata": {
        "trusted": true
      },
      "cell_type": "code",
      "source": "train_x",
      "execution_count": null,
      "outputs": []
    },
    {
      "metadata": {
        "trusted": true
      },
      "cell_type": "code",
      "source": "dd= pd.DataFrame({'city':('delhi','chennai','bengaluru','delhi','delhi','bengaluru'), 'guest_no':range(6)})\n",
      "execution_count": 18,
      "outputs": []
    },
    {
      "metadata": {
        "trusted": true
      },
      "cell_type": "code",
      "source": "dd",
      "execution_count": 14,
      "outputs": [
        {
          "output_type": "execute_result",
          "execution_count": 14,
          "data": {
            "text/html": "<div>\n<style scoped>\n    .dataframe tbody tr th:only-of-type {\n        vertical-align: middle;\n    }\n\n    .dataframe tbody tr th {\n        vertical-align: top;\n    }\n\n    .dataframe thead th {\n        text-align: right;\n    }\n</style>\n<table border=\"1\" class=\"dataframe\">\n  <thead>\n    <tr style=\"text-align: right;\">\n      <th></th>\n      <th>city</th>\n      <th>guest_no</th>\n    </tr>\n  </thead>\n  <tbody>\n    <tr>\n      <th>0</th>\n      <td>delhi</td>\n      <td>0</td>\n    </tr>\n    <tr>\n      <th>1</th>\n      <td>chennai</td>\n      <td>1</td>\n    </tr>\n    <tr>\n      <th>2</th>\n      <td>bengaluru</td>\n      <td>2</td>\n    </tr>\n    <tr>\n      <th>3</th>\n      <td>delhi</td>\n      <td>3</td>\n    </tr>\n    <tr>\n      <th>4</th>\n      <td>delhi</td>\n      <td>4</td>\n    </tr>\n    <tr>\n      <th>5</th>\n      <td>bengaluru</td>\n      <td>5</td>\n    </tr>\n  </tbody>\n</table>\n</div>",
            "text/plain": "        city  guest_no\n0      delhi         0\n1    chennai         1\n2  bengaluru         2\n3      delhi         3\n4      delhi         4\n5  bengaluru         5"
          },
          "metadata": {}
        }
      ]
    },
    {
      "metadata": {
        "trusted": true
      },
      "cell_type": "code",
      "source": "dd=pd.get_dummies(dd,columns=['city'])",
      "execution_count": 15,
      "outputs": []
    },
    {
      "metadata": {
        "trusted": true
      },
      "cell_type": "code",
      "source": "dd",
      "execution_count": 16,
      "outputs": [
        {
          "output_type": "execute_result",
          "execution_count": 16,
          "data": {
            "text/html": "<div>\n<style scoped>\n    .dataframe tbody tr th:only-of-type {\n        vertical-align: middle;\n    }\n\n    .dataframe tbody tr th {\n        vertical-align: top;\n    }\n\n    .dataframe thead th {\n        text-align: right;\n    }\n</style>\n<table border=\"1\" class=\"dataframe\">\n  <thead>\n    <tr style=\"text-align: right;\">\n      <th></th>\n      <th>guest_no</th>\n      <th>city_bengaluru</th>\n      <th>city_chennai</th>\n      <th>city_delhi</th>\n    </tr>\n  </thead>\n  <tbody>\n    <tr>\n      <th>0</th>\n      <td>0</td>\n      <td>0</td>\n      <td>0</td>\n      <td>1</td>\n    </tr>\n    <tr>\n      <th>1</th>\n      <td>1</td>\n      <td>0</td>\n      <td>1</td>\n      <td>0</td>\n    </tr>\n    <tr>\n      <th>2</th>\n      <td>2</td>\n      <td>1</td>\n      <td>0</td>\n      <td>0</td>\n    </tr>\n    <tr>\n      <th>3</th>\n      <td>3</td>\n      <td>0</td>\n      <td>0</td>\n      <td>1</td>\n    </tr>\n    <tr>\n      <th>4</th>\n      <td>4</td>\n      <td>0</td>\n      <td>0</td>\n      <td>1</td>\n    </tr>\n    <tr>\n      <th>5</th>\n      <td>5</td>\n      <td>1</td>\n      <td>0</td>\n      <td>0</td>\n    </tr>\n  </tbody>\n</table>\n</div>",
            "text/plain": "   guest_no  city_bengaluru  city_chennai  city_delhi\n0         0               0             0           1\n1         1               0             1           0\n2         2               1             0           0\n3         3               0             0           1\n4         4               0             0           1\n5         5               1             0           0"
          },
          "metadata": {}
        }
      ]
    },
    {
      "metadata": {
        "trusted": true
      },
      "cell_type": "code",
      "source": "df = pd.get_dummies(df, columns=['ORIGIN', 'DEST'])\ndf.head()",
      "execution_count": 17,
      "outputs": [
        {
          "output_type": "execute_result",
          "execution_count": 17,
          "data": {
            "text/html": "<div>\n<style scoped>\n    .dataframe tbody tr th:only-of-type {\n        vertical-align: middle;\n    }\n\n    .dataframe tbody tr th {\n        vertical-align: top;\n    }\n\n    .dataframe thead th {\n        text-align: right;\n    }\n</style>\n<table border=\"1\" class=\"dataframe\">\n  <thead>\n    <tr style=\"text-align: right;\">\n      <th></th>\n      <th>MONTH</th>\n      <th>DAY_OF_MONTH</th>\n      <th>DAY_OF_WEEK</th>\n      <th>CRS_DEP_TIME</th>\n      <th>ARR_DEL15</th>\n      <th>ORIGIN_ATL</th>\n      <th>ORIGIN_DTW</th>\n      <th>ORIGIN_JFK</th>\n      <th>ORIGIN_MSP</th>\n      <th>ORIGIN_SEA</th>\n      <th>DEST_ATL</th>\n      <th>DEST_DTW</th>\n      <th>DEST_JFK</th>\n      <th>DEST_MSP</th>\n      <th>DEST_SEA</th>\n    </tr>\n  </thead>\n  <tbody>\n    <tr>\n      <th>0</th>\n      <td>1</td>\n      <td>1</td>\n      <td>5</td>\n      <td>19</td>\n      <td>0.0</td>\n      <td>1</td>\n      <td>0</td>\n      <td>0</td>\n      <td>0</td>\n      <td>0</td>\n      <td>0</td>\n      <td>0</td>\n      <td>0</td>\n      <td>0</td>\n      <td>1</td>\n    </tr>\n    <tr>\n      <th>1</th>\n      <td>1</td>\n      <td>1</td>\n      <td>5</td>\n      <td>13</td>\n      <td>0.0</td>\n      <td>0</td>\n      <td>1</td>\n      <td>0</td>\n      <td>0</td>\n      <td>0</td>\n      <td>0</td>\n      <td>0</td>\n      <td>0</td>\n      <td>1</td>\n      <td>0</td>\n    </tr>\n    <tr>\n      <th>2</th>\n      <td>1</td>\n      <td>1</td>\n      <td>5</td>\n      <td>9</td>\n      <td>0.0</td>\n      <td>1</td>\n      <td>0</td>\n      <td>0</td>\n      <td>0</td>\n      <td>0</td>\n      <td>0</td>\n      <td>0</td>\n      <td>0</td>\n      <td>0</td>\n      <td>1</td>\n    </tr>\n    <tr>\n      <th>3</th>\n      <td>1</td>\n      <td>1</td>\n      <td>5</td>\n      <td>8</td>\n      <td>0.0</td>\n      <td>0</td>\n      <td>0</td>\n      <td>0</td>\n      <td>0</td>\n      <td>1</td>\n      <td>0</td>\n      <td>0</td>\n      <td>0</td>\n      <td>1</td>\n      <td>0</td>\n    </tr>\n    <tr>\n      <th>4</th>\n      <td>1</td>\n      <td>1</td>\n      <td>5</td>\n      <td>23</td>\n      <td>0.0</td>\n      <td>0</td>\n      <td>0</td>\n      <td>0</td>\n      <td>0</td>\n      <td>1</td>\n      <td>0</td>\n      <td>1</td>\n      <td>0</td>\n      <td>0</td>\n      <td>0</td>\n    </tr>\n  </tbody>\n</table>\n</div>",
            "text/plain": "   MONTH  DAY_OF_MONTH  DAY_OF_WEEK  CRS_DEP_TIME  ARR_DEL15  ORIGIN_ATL  \\\n0      1             1            5            19        0.0           1   \n1      1             1            5            13        0.0           0   \n2      1             1            5             9        0.0           1   \n3      1             1            5             8        0.0           0   \n4      1             1            5            23        0.0           0   \n\n   ORIGIN_DTW  ORIGIN_JFK  ORIGIN_MSP  ORIGIN_SEA  DEST_ATL  DEST_DTW  \\\n0           0           0           0           0         0         0   \n1           1           0           0           0         0         0   \n2           0           0           0           0         0         0   \n3           0           0           0           1         0         0   \n4           0           0           0           1         0         1   \n\n   DEST_JFK  DEST_MSP  DEST_SEA  \n0         0         0         1  \n1         0         1         0  \n2         0         0         1  \n3         0         1         0  \n4         0         0         0  "
          },
          "metadata": {}
        }
      ]
    },
    {
      "metadata": {
        "trusted": true
      },
      "cell_type": "code",
      "source": "from sklearn.ensemble import RandomForestClassifier\nmodel = RandomForestClassifier(random_state=13)\nmodel.fit(train_x, train_y)",
      "execution_count": 20,
      "outputs": [
        {
          "output_type": "stream",
          "text": "/home/nbuser/anaconda3_501/lib/python3.6/site-packages/sklearn/ensemble/forest.py:246: FutureWarning: The default value of n_estimators will change from 10 in version 0.20 to 100 in 0.22.\n  \"10 in version 0.20 to 100 in 0.22.\", FutureWarning)\n",
          "name": "stderr"
        },
        {
          "output_type": "execute_result",
          "execution_count": 20,
          "data": {
            "text/plain": "RandomForestClassifier(bootstrap=True, class_weight=None, criterion='gini',\n            max_depth=None, max_features='auto', max_leaf_nodes=None,\n            min_impurity_decrease=0.0, min_impurity_split=None,\n            min_samples_leaf=1, min_samples_split=2,\n            min_weight_fraction_leaf=0.0, n_estimators=10, n_jobs=None,\n            oob_score=False, random_state=13, verbose=0, warm_start=False)"
          },
          "metadata": {}
        }
      ]
    },
    {
      "metadata": {
        "trusted": true
      },
      "cell_type": "code",
      "source": "predicted = model.predict(test_x)\nmodel.score(test_x, test_y)",
      "execution_count": 21,
      "outputs": [
        {
          "output_type": "execute_result",
          "execution_count": 21,
          "data": {
            "text/plain": "0.8602581219403649"
          },
          "metadata": {}
        }
      ]
    },
    {
      "metadata": {
        "trusted": true
      },
      "cell_type": "code",
      "source": "from sklearn.metrics import roc_auc_score\nprobabilities = model.predict_proba(test_x)",
      "execution_count": 22,
      "outputs": []
    },
    {
      "metadata": {
        "trusted": true
      },
      "cell_type": "code",
      "source": "probabilities",
      "execution_count": 23,
      "outputs": [
        {
          "output_type": "execute_result",
          "execution_count": 23,
          "data": {
            "text/plain": "array([[0.8, 0.2],\n       [0.9, 0.1],\n       [1. , 0. ],\n       ...,\n       [0.9, 0.1],\n       [0.7, 0.3],\n       [1. , 0. ]])"
          },
          "metadata": {}
        }
      ]
    },
    {
      "metadata": {
        "trusted": true
      },
      "cell_type": "code",
      "source": "from sklearn.metrics import confusion_matrix\nconfusion_matrix(test_y, predicted)",
      "execution_count": 24,
      "outputs": [
        {
          "output_type": "execute_result",
          "execution_count": 24,
          "data": {
            "text/plain": "array([[1882,   54],\n       [ 260,   51]])"
          },
          "metadata": {}
        }
      ]
    },
    {
      "metadata": {
        "trusted": true
      },
      "cell_type": "code",
      "source": "%matplotlib inline\nimport matplotlib.pyplot as plt\nimport seaborn as sns\nsns.set()",
      "execution_count": 26,
      "outputs": []
    },
    {
      "metadata": {
        "trusted": true
      },
      "cell_type": "code",
      "source": "def predict_delay(departure_date_time, origin, destination):\n    from datetime import datetime\n\n    try:\n        departure_date_time_parsed = datetime.strptime(departure_date_time, '%d/%m/%Y %H:%M:%S')\n    except ValueError as e:\n        return 'Error parsing date/time - {}'.format(e)\n\n    month = departure_date_time_parsed.month\n    day = departure_date_time_parsed.day\n    day_of_week = departure_date_time_parsed.isoweekday()\n    hour = departure_date_time_parsed.hour\n\n    origin = origin.upper()\n    destination = destination.upper()\n\n    input = [{'MONTH': month,\n              'DAY': day,\n              'DAY_OF_WEEK': day_of_week,\n              'CRS_DEP_TIME': hour,\n              'ORIGIN_ATL': 1 if origin == 'ATL' else 0,\n              'ORIGIN_DTW': 1 if origin == 'DTW' else 0,\n              'ORIGIN_JFK': 1 if origin == 'JFK' else 0,\n              'ORIGIN_MSP': 1 if origin == 'MSP' else 0,\n              'ORIGIN_SEA': 1 if origin == 'SEA' else 0,\n              'DEST_ATL': 1 if destination == 'ATL' else 0,\n              'DEST_DTW': 1 if destination == 'DTW' else 0,\n              'DEST_JFK': 1 if destination == 'JFK' else 0,\n              'DEST_MSP': 1 if destination == 'MSP' else 0,\n              'DEST_SEA': 1 if destination == 'SEA' else 0 }]\n    \n    if(model.predict(pd.DataFrame(input))==0):\n        print(\"The flight will be on time\")\n    else:\n        print(\"The flight will be delayed\")\n        \n    print(\"The probability of the flight being on time is\")\n    return model.predict_proba(pd.DataFrame(input))[0][0]",
      "execution_count": 29,
      "outputs": []
    },
    {
      "metadata": {
        "trusted": true
      },
      "cell_type": "code",
      "source": "predict_delay('2/10/2018 10:00:00', 'ATL', 'SEA')",
      "execution_count": 30,
      "outputs": [
        {
          "output_type": "stream",
          "text": "The flight will be on time\nThe probability of the flight being on time is\n",
          "name": "stdout"
        },
        {
          "output_type": "execute_result",
          "execution_count": 30,
          "data": {
            "text/plain": "1.0"
          },
          "metadata": {}
        }
      ]
    },
    {
      "metadata": {
        "trusted": true
      },
      "cell_type": "code",
      "source": "predict_delay('2/10/2018 21:45:00', 'JFK', 'ATL')",
      "execution_count": 31,
      "outputs": [
        {
          "output_type": "stream",
          "text": "The flight will be on time\nThe probability of the flight being on time is\n",
          "name": "stdout"
        },
        {
          "output_type": "execute_result",
          "execution_count": 31,
          "data": {
            "text/plain": "0.8"
          },
          "metadata": {}
        }
      ]
    },
    {
      "metadata": {
        "trusted": true
      },
      "cell_type": "code",
      "source": "predict_delay('1/10/2018 21:45:00', 'JFK', 'ATL')",
      "execution_count": 32,
      "outputs": [
        {
          "output_type": "stream",
          "text": "The flight will be on time\nThe probability of the flight being on time is\n",
          "name": "stdout"
        },
        {
          "output_type": "execute_result",
          "execution_count": 32,
          "data": {
            "text/plain": "0.6"
          },
          "metadata": {}
        }
      ]
    },
    {
      "metadata": {
        "trusted": true
      },
      "cell_type": "code",
      "source": "import numpy as np\n\nlabels = ('Oct 1', 'Oct 2', 'Oct 3', 'Oct 4', 'Oct 5', 'Oct 6', 'Oct 7')\nvalues = (predict_delay('1/10/2018 21:45:00', 'JFK', 'ATL'),\n          predict_delay('2/10/2018 21:45:00', 'JFK', 'ATL'),\n          predict_delay('3/10/2018 21:45:00', 'JFK', 'ATL'),\n          predict_delay('4/10/2018 21:45:00', 'JFK', 'ATL'),\n          predict_delay('5/10/2018 21:45:00', 'JFK', 'ATL'),\n          predict_delay('6/10/2018 21:45:00', 'JFK', 'ATL'),\n          predict_delay('7/10/2018 21:45:00', 'JFK', 'ATL'))\nalabels = np.arange(len(labels)) #x co-ordinates of the bar plot\n\nplt.bar(alabels, values, align='center', alpha=0.5)\nplt.xticks(alabels, labels)\nplt.ylabel('Probability of On-Time Arrival')\nplt.ylim((0.0, 1.0))",
      "execution_count": 33,
      "outputs": [
        {
          "output_type": "stream",
          "text": "The flight will be on time\nThe probability of the flight being on time is\nThe flight will be on time\nThe probability of the flight being on time is\nThe flight will be on time\nThe probability of the flight being on time is\nThe flight will be on time\nThe probability of the flight being on time is\nThe flight will be on time\nThe probability of the flight being on time is\nThe flight will be on time\nThe probability of the flight being on time is\nThe flight will be on time\nThe probability of the flight being on time is\n",
          "name": "stdout"
        },
        {
          "output_type": "execute_result",
          "execution_count": 33,
          "data": {
            "text/plain": "(0.0, 1.0)"
          },
          "metadata": {}
        },
        {
          "output_type": "display_data",
          "data": {
            "image/png": "[encoded data removed]",
            "text/plain": "<Figure size 432x288 with 1 Axes>"
          },
          "metadata": {}
        }
      ]
    },
    {
      "metadata": {
        "trusted": true
      },
      "cell_type": "code",
      "source": "",
      "execution_count": null,
      "outputs": []
    }
  ],
  "metadata": {
    "kernelspec": {
      "name": "python36",
      "display_name": "Python 3.6",
      "language": "python"
    }
  },
  "nbformat": 4,
  "nbformat_minor": 2
}
